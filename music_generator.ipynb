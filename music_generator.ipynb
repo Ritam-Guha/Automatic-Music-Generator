{
 "cells": [
  {
   "cell_type": "markdown",
   "metadata": {},
   "source": [
    "# Music Generation notebook\n",
    "\n",
    "* This notebook generates new musical notes from a trained model consisting of LSTM networks and renders them to form a musical compsition"
   ]
  },
  {
   "cell_type": "code",
   "execution_count": 1,
   "metadata": {},
   "outputs": [],
   "source": [
    "import pickle\n",
    "import numpy\n",
    "import IPython\n",
    "from music21 import midi, instrument, note, stream, chord\n",
    "from keras.models import Sequential\n",
    "from keras.layers import Dense\n",
    "from keras.layers import Dropout\n",
    "from keras.layers import LSTM\n",
    "from keras.layers import BatchNormalization as BatchNorm\n",
    "from keras.layers import Activation"
   ]
  },
  {
   "cell_type": "markdown",
   "metadata": {},
   "source": [
    "## Specify the file locations\n",
    "### It requires 3 file locations -\n",
    "* notes_loc: Location of the notes extracted from the input songs\n",
    "* weights_loc: Location of the weights of the trained model \n",
    "* output_file_loc: Location of the output midi file to be stored"
   ]
  },
  {
   "cell_type": "code",
   "execution_count": 2,
   "metadata": {},
   "outputs": [],
   "source": [
    "genre = 'Rock'\n",
    "notes_loc = 'notes/notes_' + genre\n",
    "weights_loc = 'weights/weights_' + genre + '.hdf5'\n",
    "output_file_loc = 'outputs/' + genre + '/' + 'test_output.wav'"
   ]
  },
  {
   "cell_type": "code",
   "execution_count": 3,
   "metadata": {},
   "outputs": [
    {
     "name": "stdout",
     "output_type": "stream",
     "text": [
      "Number of notes: 53\n"
     ]
    }
   ],
   "source": [
    "#load the notes used to train the model\n",
    "with open(notes_loc, 'rb') as filepath:\n",
    "    notes = pickle.load(filepath)\n",
    "\n",
    "# Get all pitch names\n",
    "pitchnames = sorted(set(item for item in notes))\n",
    "# Get all pitch names\n",
    "n_vocab = len(set(notes))\n",
    "print('Number of notes: {}'.format(n_vocab))"
   ]
  },
  {
   "cell_type": "markdown",
   "metadata": {},
   "source": [
    "## Prepare the input and output sequences for the prediction model"
   ]
  },
  {
   "cell_type": "code",
   "execution_count": 4,
   "metadata": {},
   "outputs": [],
   "source": [
    "def prepare_sequences(notes, pitchnames, n_vocab):\n",
    "    \"\"\" Prepare the sequences used by the Neural Network \"\"\"\n",
    "    # map between notes and integers and back\n",
    "    note_to_int = dict((note, number) for number, note in enumerate(pitchnames))\n",
    "\n",
    "    sequence_length = 100\n",
    "    network_input = []\n",
    "    output = []\n",
    "    for i in range(0, len(notes) - sequence_length, 1):\n",
    "        sequence_in = notes[i:i + sequence_length]\n",
    "        sequence_out = notes[i + sequence_length]\n",
    "        network_input.append([note_to_int[char] for char in sequence_in])\n",
    "        output.append(note_to_int[sequence_out])\n",
    "\n",
    "    n_patterns = len(network_input)\n",
    "\n",
    "    # reshape the input into a format compatible with LSTM layers\n",
    "    normalized_input = numpy.reshape(network_input, (n_patterns, sequence_length, 1))\n",
    "    # normalize input\n",
    "    normalized_input = normalized_input / float(n_vocab)\n",
    "\n",
    "    return (network_input, normalized_input)"
   ]
  },
  {
   "cell_type": "code",
   "execution_count": 5,
   "metadata": {},
   "outputs": [],
   "source": [
    "network_input, normalized_input = prepare_sequences(notes, pitchnames, n_vocab)"
   ]
  },
  {
   "cell_type": "markdown",
   "metadata": {},
   "source": [
    "## Create and compile the prediction model"
   ]
  },
  {
   "cell_type": "code",
   "execution_count": 6,
   "metadata": {},
   "outputs": [],
   "source": [
    "def create_network(network_input, n_vocab):\n",
    "    \"\"\" create the structure of the neural network \"\"\"\n",
    "    model = Sequential()\n",
    "    model.add(LSTM(\n",
    "        512,\n",
    "        input_shape=(network_input.shape[1], network_input.shape[2]),\n",
    "        recurrent_dropout=0.3,\n",
    "        return_sequences=True\n",
    "    ))\n",
    "    model.add(LSTM(512, return_sequences=True, recurrent_dropout=0.3,))\n",
    "    model.add(LSTM(512))\n",
    "    model.add(BatchNorm())\n",
    "    model.add(Dropout(0.3))\n",
    "    model.add(Dense(256))\n",
    "    model.add(Activation('relu'))\n",
    "    model.add(BatchNorm())\n",
    "    model.add(Dropout(0.3))\n",
    "    model.add(Dense(n_vocab))\n",
    "    model.add(Activation('softmax'))\n",
    "    model.compile(loss='categorical_crossentropy', optimizer='rmsprop')\n",
    "\n",
    "    # Load the weights to each node\n",
    "    model.load_weights(weights_loc)\n",
    "\n",
    "    return model"
   ]
  },
  {
   "cell_type": "code",
   "execution_count": 7,
   "metadata": {},
   "outputs": [],
   "source": [
    "model = create_network(normalized_input, n_vocab)"
   ]
  },
  {
   "cell_type": "markdown",
   "metadata": {},
   "source": [
    "## Generate the predicted notes"
   ]
  },
  {
   "cell_type": "code",
   "execution_count": 8,
   "metadata": {},
   "outputs": [],
   "source": [
    "def generate_notes(model, network_input, pitchnames, n_vocab):\n",
    "    \"\"\" Generate notes from the neural network based on a sequence of notes \"\"\"\n",
    "    # pick a random sequence from the input as a starting point for the prediction\n",
    "    start = numpy.random.randint(0, len(network_input)-1)\n",
    "\n",
    "    int_to_note = dict((number, note) for number, note in enumerate(pitchnames))\n",
    "\n",
    "    pattern = network_input[start]\n",
    "    prediction_output = []\n",
    "\n",
    "    # generate 500 notes\n",
    "    for note_index in range(1000):\n",
    "        prediction_input = numpy.reshape(pattern, (1, len(pattern), 1))\n",
    "        prediction_input = prediction_input / float(n_vocab)\n",
    "\n",
    "        prediction = model.predict(prediction_input, verbose=0)\n",
    "\n",
    "        index = numpy.argmax(prediction)\n",
    "        result = int_to_note[index]\n",
    "        prediction_output.append(result)\n",
    "\n",
    "        pattern.append(index)\n",
    "        pattern = pattern[1:len(pattern)]\n",
    "\n",
    "    return prediction_output\n"
   ]
  },
  {
   "cell_type": "code",
   "execution_count": 9,
   "metadata": {},
   "outputs": [],
   "source": [
    "network_input, normalized_input = prepare_sequences(notes, pitchnames, n_vocab)"
   ]
  },
  {
   "cell_type": "code",
   "execution_count": 10,
   "metadata": {},
   "outputs": [],
   "source": [
    "prediction_output = generate_notes(model, network_input, pitchnames, n_vocab)"
   ]
  },
  {
   "cell_type": "code",
   "execution_count": 11,
   "metadata": {},
   "outputs": [],
   "source": [
    "def create_midi(prediction_output):\n",
    "    \"\"\" convert the output from the prediction to notes and create a midi file\n",
    "        from the notes \"\"\"\n",
    "    offset = 0\n",
    "    output_notes = []\n",
    "\n",
    "    # create note and chord objects based on the values generated by the model\n",
    "    for pattern in prediction_output:\n",
    "        # pattern is a chord\n",
    "        if ('.' in pattern) or pattern.isdigit():\n",
    "            notes_in_chord = pattern.split('.')\n",
    "            notes = []\n",
    "            for current_note in notes_in_chord:\n",
    "                new_note = note.Note(int(current_note))\n",
    "                new_note.storedInstrument = instrument.Piano()\n",
    "                notes.append(new_note)\n",
    "            new_chord = chord.Chord(notes)\n",
    "            new_chord.offset = offset\n",
    "            output_notes.append(new_chord)\n",
    "        # pattern is a note\n",
    "        else:\n",
    "            new_note = note.Note(pattern)\n",
    "            new_note.offset = offset\n",
    "            new_note.storedInstrument = instrument.Piano()\n",
    "            output_notes.append(new_note)\n",
    "\n",
    "        # increase offset each iteration so that notes do not stack\n",
    "        offset += 0.5\n",
    "\n",
    "    mp3_stream = stream.Stream(output_notes)\n",
    "\n",
    "    mp3_stream.write('mid', fp=output_file_loc)"
   ]
  },
  {
   "cell_type": "code",
   "execution_count": 12,
   "metadata": {},
   "outputs": [],
   "source": [
    "create_midi(prediction_output)"
   ]
  },
  {
   "cell_type": "markdown",
   "metadata": {},
   "source": [
    "## Listen to the music generated by your own trained model :')\n",
    "## Proud of You    "
   ]
  },
  {
   "cell_type": "code",
   "execution_count": 13,
   "metadata": {},
   "outputs": [
    {
     "name": "stdout",
     "output_type": "stream",
     "text": [
      "Playing the generated music....\n"
     ]
    },
    {
     "data": {
      "text/html": [
       "\n",
       "                <div id='midiPlayerDiv17671'></div>\n",
       "                <link rel=\"stylesheet\" href=\"//cuthbertLab.github.io/music21j/css/m21.css\"\n",
       "                    type=\"text/css\" />\n",
       "                <script>\n",
       "                require.config({\n",
       "                    paths: {'music21': '//cuthbertLab.github.io/music21j/src/music21'}\n",
       "                });\n",
       "                require(['music21'], function() {\n",
       "                               mp = new music21.miditools.MidiPlayer();\n",
       "                               mp.addPlayer('#midiPlayerDiv17671');\n",
       "                               mp.base64Load('data:audio/midi;base64,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');\n",
       "                        });\n",
       "                </script>"
      ],
      "text/plain": [
       "<IPython.core.display.HTML object>"
      ]
     },
     "metadata": {},
     "output_type": "display_data"
    }
   ],
   "source": [
    "print('Playing the generated music....')\n",
    "mf = midi.MidiFile()\n",
    "mf.open(output_file_loc)\n",
    "mf.read()\n",
    "mf.close()\n",
    "streamMidi = midi.translate.midiFileToStream(mf)\n",
    "streamMidi.show('midi')"
   ]
  },
  {
   "cell_type": "code",
   "execution_count": null,
   "metadata": {},
   "outputs": [],
   "source": []
  }
 ],
 "metadata": {
  "kernelspec": {
   "display_name": "Python 3",
   "language": "python",
   "name": "python3"
  },
  "language_info": {
   "codemirror_mode": {
    "name": "ipython",
    "version": 3
   },
   "file_extension": ".py",
   "mimetype": "text/x-python",
   "name": "python",
   "nbconvert_exporter": "python",
   "pygments_lexer": "ipython3",
   "version": "3.8.5"
  }
 },
 "nbformat": 4,
 "nbformat_minor": 4
}
